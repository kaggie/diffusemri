{
  "nbformat": 4,
  "nbformat_minor": 5,
  "metadata": {
    "kernelspec": {
      "display_name": "Python 3",
      "language": "python",
      "name": "python3"
    },
    "language_info": {
      "codemirror_mode": {
        "name": "ipython",
        "version": 3
      },
      "file_extension": ".py",
      "mimetype": "text/x-python",
      "name": "python",
      "nbconvert_exporter": "python",
      "pygments_lexer": "ipython3",
      "version": "3.10.12"
    }
  },
  "cells": [
    {
      "cell_type": "markdown",
      "metadata": {},
      "source": [
        "# 05 - NIfTI to DICOM Secondary Capture Conversion\n",
        "\n",
        "This notebook demonstrates how to convert NIfTI files into a series of DICOM Secondary Capture (SC) objects using the `diffusemri` library. This can be useful for importing processed NIfTI images (like parameter maps, segmentations, or custom visualizations) into Picture Archiving and Communication Systems (PACS) or DICOM viewers that might not directly support NIfTI.\n",
        "\n",
        "**<font color='red'>IMPORTANT WARNING:</font>**\n",
        "*   **Non-Diagnostic Use:** DICOM Secondary Capture objects are **NOT** intended for primary diagnostic interpretation. They do not contain the rich metadata of original scanner-acquired DICOMs (e.g., detailed acquisition parameters, sequence information). \n",
        "*   **Loss of Original Metadata:** The conversion process creates new DICOM objects with minimal necessary metadata. Most of the original NIfTI header information beyond basic spatial details might not be directly transferable or represented in the same way in DICOM SC.\n",
        "*   **Pixel Data Representation:** Careful attention must be paid to how pixel data from the NIfTI is scaled and represented in the DICOM SC objects, especially if the NIfTI contains floating-point data or values outside the typical range of DICOM display."
      ]
    },
    {
      "cell_type": "code",
      "metadata": {},
      "outputs": [],
      "execution_count": null,
      "source": [
        "import os\n",
        "import shutil\n",
        "import numpy as np\n",
        "import nibabel as nib\n",
        "import pydicom # For verifying DICOM output\n",
        "\n",
        "# diffusemri library imports\n",
        "from data_io.dicom_utils import write_nifti_to_dicom_secondary\n",
        "\n",
        "# Setup a temporary directory for example files\n",
        "TEMP_DIR = \"temp_nii2dicom_sec_example\"\n",
        "if os.path.exists(TEMP_DIR):\n",
        "    shutil.rmtree(TEMP_DIR)\n",
        "os.makedirs(TEMP_DIR)\n",
        "\n",
        "print(f\"Temporary directory for examples: {os.path.abspath(TEMP_DIR)}\")"
      ]
    },
    {
      "cell_type": "markdown",
      "metadata": {},
      "source": [
        "## Part 1: Creating a Dummy NIfTI File\n",
        "\n",
        "First, we'll create a simple 3D NIfTI file to use as input for the conversion."
      ]
    },
    {
      "cell_type": "code",
      "metadata": {},
      "outputs": [],
      "execution_count": null,
      "source": [
        "# Create a dummy 3D NIfTI image with integer data\n",
        "# Data ranges from 0 up to (6*7*4 - 1) = 167\n",
        "nifti_data_3d = np.arange(6*7*4, dtype=np.int16).reshape((6, 7, 4)) # Small X, Y, Z dimensions\n",
        "\n",
        "# Create a simple affine matrix (RAS orientation, 2mm isotropic voxels, origin at [10,20,30])\n",
        "affine_3d = np.array([\n",
        "    [2.0, 0.0, 0.0, 10.0],\n",
        "    [0.0, 2.0, 0.0, 20.0],\n",
        "    [0.0, 0.0, 2.0, 30.0],\n",
        "    [0.0, 0.0, 0.0, 1.0]\n",
        "])\n",
        "\n",
        "dummy_nifti_3d_filepath = os.path.join(TEMP_DIR, \"dummy_3d_image.nii.gz\")\n",
        "nifti_3d_img = nib.Nifti1Image(nifti_data_3d, affine_3d)\n",
        "nib.save(nifti_3d_img, dummy_nifti_3d_filepath)\n",
        "\n",
        "print(f\"Created dummy 3D NIfTI: {dummy_nifti_3d_filepath}\")\n",
        "print(f\"  Data shape: {nifti_3d_img.shape}, Data type: {nifti_3d_img.get_data_dtype()}\")\n",
        "print(f\"  Data min: {nifti_data_3d.min()}, Data max: {nifti_data_3d.max()}\")"
      ]
    },
    {
      "cell_type": "markdown",
      "metadata": {},
      "source": [
        "## Part 2: Converting NIfTI to DICOM Secondary Capture Series\n",
        "\n",
        "Now, we'll use the `write_nifti_to_dicom_secondary` function to convert this NIfTI file into a series of DICOM SC files. Each slice of the NIfTI image will become a separate DICOM file."
      ]
    },
    {
      "cell_type": "code",
      "metadata": {},
      "outputs": [],
      "execution_count": null,
      "source": [
        "output_dicom_series_dir_3d = os.path.join(TEMP_DIR, \"my_dicom_sc_series_3d\")\n",
        "series_description_3d = \"Converted 3D NIfTI Data\"\n",
        "\n",
        "print(f\"Converting NIfTI file: {dummy_nifti_3d_filepath}\")\n",
        "print(f\"Outputting DICOM series to: {output_dicom_series_dir_3d}\")\n",
        "\n",
        "created_dicom_files_list = []\n",
        "try:\n",
        "    # The function write_nifti_to_dicom_secondary handles loading the NIfTI file from the path.\n",
        "    # It will also handle basic data scaling to fit into DICOM pixel representation (e.g., uint16).\n",
        "    created_dicom_files_list = write_nifti_to_dicom_secondary(\n",
        "        nifti_image_path=dummy_nifti_3d_filepath, \n",
        "        output_dir=output_dicom_series_dir_3d,\n",
        "        series_description=series_description_3d,\n",
        "        patient_id=\"P001-Nii2DCM\",\n",
        "        series_number=77\n",
        "        # Note: The underlying function will attempt to scale float data to uint16, \n",
        "        # or use original integer type if it's uint8/int16/uint16. \n",
        "        # Explicit RescaleSlope/Intercept tags are not set by this function for custom scaling by default.\n",
        "    )\n",
        "    \n",
        "    if created_dicom_files_list and len(created_dicom_files_list) > 0:\n",
        "        print(f\"NIfTI file converted successfully to DICOM SC series.\")\n",
        "        print(f\"Generated {len(created_dicom_files_list)} DICOM files in {output_dicom_series_dir_3d}\")\n",
        "        print(f\"First few files: {created_dicom_files_list[:5]}\")\n",
        "    else:\n",
        "        print(\"NIfTI to DICOM conversion reported success, but no files were listed as created or the list was empty.\")\n",
        "\n",
        "except Exception as e:\n",
        "    print(f\"An error occurred during NIfTI to DICOM conversion: {e}\")"
      ]
    },
    {
      "cell_type": "markdown",
      "metadata": {},
      "source": [
        "### Inspecting a Generated DICOM File\n",
        "\n",
        "Let's load one of the generated DICOM files and inspect some of its key tags to understand what information has been written."
      ]
    },
    {
      "cell_type": "code",
      "metadata": {},
      "outputs": [],
      "execution_count": null,
      "source": [
        "if created_dicom_files_list and len(created_dicom_files_list) > 0:\n",
        "    first_dicom_slice_path = created_dicom_files_list[0]\n",
        "    if os.path.exists(first_dicom_slice_path):\n",
        "        try:\n",
        "            ds = pydicom.dcmread(first_dicom_slice_path)\n",
        "            \n",
        "            print(f\"\\n--- Tags from DICOM file: {os.path.basename(first_dicom_slice_path)} ---\")\n",
        "            print(f\"SOPClassUID: {ds.SOPClassUID} ({ds.SOPClassUID.name})\")\n",
        "            print(f\"Modality: {ds.Modality}\") # Should be 'OT' (Other) for Secondary Capture\n",
        "            print(f\"SeriesDescription: {ds.SeriesDescription}\")\n",
        "            print(f\"InstanceNumber: {ds.InstanceNumber}\")\n",
        "            print(f\"PatientName: {ds.PatientName}\")\n",
        "            print(f\"PatientID: {ds.PatientID}\")\n",
        "            print(f\"StudyInstanceUID: {ds.StudyInstanceUID}\")\n",
        "            print(f\"SeriesInstanceUID: {ds.SeriesInstanceUID}\")\n",
        "            print(f\"SeriesNumber: {ds.SeriesNumber}\")\n",
        "            \n",
        "            print(f\"\\n--- Spatial and Pixel Information ---\")\n",
        "            print(f\"Rows: {ds.Rows}, Columns: {ds.Columns}\")\n",
        "            print(f\"PixelSpacing: {ds.PixelSpacing}\") # Derived from NIfTI affine\n",
        "            print(f\"SliceThickness: {ds.SliceThickness}\") # Derived from NIfTI affine\n",
        "            print(f\"ImagePositionPatient: {ds.ImagePositionPatient}\") # Derived from NIfTI affine\n",
        "            print(f\"ImageOrientationPatient: {ds.ImageOrientationPatient}\") # Derived from NIfTI affine\n",
        "            \n",
        "            print(f\"\\n--- Pixel Data Representation --- \")\n",
        "            print(f\"BitsAllocated: {ds.BitsAllocated}\")\n",
        "            print(f\"BitsStored: {ds.BitsStored}\")\n",
        "            print(f\"HighBit: {ds.HighBit}\")\n",
        "            print(f\"PixelRepresentation: {ds.PixelRepresentation} (0=unsigned, 1=signed)\")\n",
        "            print(f\"PhotometricInterpretation: {ds.PhotometricInterpretation}\")\n",
        "            # Check for Rescale Slope/Intercept if the function sets them (it might not by default for SC)\n",
        "            if 'RescaleIntercept' in ds:\n",
        "                print(f\"RescaleIntercept: {ds.RescaleIntercept}\")\n",
        "            if 'RescaleSlope' in ds:\n",
        "                print(f\"RescaleSlope: {ds.RescaleSlope}\")\n",
        "            \n",
        "            # You can also access the pixel data itself via ds.pixel_array\n",
        "            # print(f\"Pixel array shape: {ds.pixel_array.shape}, dtype: {ds.pixel_array.dtype}\")\n",
        "            # print(f\"Pixel data min: {ds.pixel_array.min()}, max: {ds.pixel_array.max()}\")\n",
        "\n",
        "        except Exception as e:\n",
        "            print(f\"Error reading or printing tags from generated DICOM file: {e}\")\n",
        "    else:\n",
        "        print(f\"The listed DICOM file does not exist: {first_dicom_slice_path}\")\n",
        "else:\n",
        "    print(\"No DICOM files were listed as created, skipping inspection.\")"
      ]
    },
    {
      "cell_type": "markdown",
      "metadata": {},
      "source": [
        "## Important Notes on Usage\n",
        "\n",
        "*   **Non-Diagnostic Nature**: As highlighted earlier, these DICOM SC files are for informational or secondary review purposes only, not for primary diagnosis. They lack the detailed provenance of original scanner data.\n",
        "\n",
        "*   **Data Scaling and Pixel Representation**: \n",
        "    *   The `write_nifti_to_dicom_secondary` function attempts to handle pixel data scaling appropriately. \n",
        "    *   If your input NIfTI data is floating-point, it will be scaled to fit within the `uint16` range (0-65535) for DICOM storage. This involves a min-max normalization. \n",
        "    *   If your input NIfTI is an integer type (like `int16`, `uint8`, `uint16`), the function will try to preserve these values. However, if values are outside the `uint16` range (e.g. negative values in `int16` if not shifted, or values > 65535), they might be clipped or an error could occur depending on the exact internal logic for that data type.\n",
        "    *   The DICOM files will typically have `BitsAllocated = 16`, `BitsStored = 16` (or 8 if input was `uint8`), and `PixelRepresentation = 0` (unsigned). \n",
        "    *   The function **does not** currently allow you to set custom `RescaleSlope` and `RescaleIntercept` values in the output DICOM tags for precise control over how a DICOM viewer might interpret stored pixel values. The goal is to store a visual representation. If specific intensity mappings are critical, you might need to pre-scale your NIfTI data appropriately before conversion or use more specialized DICOM creation tools.\n",
        "\n",
        "*   **Orientation and Spatial Information**: The spatial information in the DICOM SC files (like `ImagePositionPatient`, `ImageOrientationPatient`, `PixelSpacing`, `SliceThickness`) is derived directly from the affine transformation matrix of the input NIfTI file. Ensure your NIfTI file has correct and well-defined orientation information if accurate spatial representation in DICOM is required.\n",
        "\n",
        "*   **Multi-Frame vs. Series**: This function creates a *series* of single-frame DICOM instances (one file per slice per time point for 4D NIfTI). It does not create multi-frame DICOM objects."
      ]
    },
    {
      "cell_type": "markdown",
      "metadata": {},
      "source": [
        "## Cleanup\n",
        "\n",
        "Remove the temporary directory and its contents."
      ]
    },
    {
      "cell_type": "code",
      "metadata": {},
      "outputs": [],
      "execution_count": null,
      "source": [
        "if os.path.exists(TEMP_DIR):\n",
        "    shutil.rmtree(TEMP_DIR)\n",
        "    print(f\"Cleaned up temporary directory: {TEMP_DIR}\")"
      ]
    }
  ]
}
