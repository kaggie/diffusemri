{
  "nbformat": 4,
  "nbformat_minor": 5,
  "metadata": {
    "kernelspec": {
      "display_name": "Python 3",
      "language": "python",
      "name": "python3"
    },
    "language_info": {
      "codemirror_mode": {
        "name": "ipython",
        "version": 3
      },
      "file_extension": ".py",
      "mimetype": "text/x-python",
      "name": "python",
      "nbconvert_exporter": "python",
      "pygments_lexer": "ipython3",
      "version": "3.10.12"
    }
  },
  "cells": [
    {
      "cell_type": "markdown",
      "metadata": {},
      "source": [
        "# 04 - Generic Data I/O: HDF5 and MATLAB .MAT Files\n",
        "\n",
        "This notebook demonstrates the use of generic Input/Output (I/O) utilities provided by the `diffusemri` library for handling HDF5 (`.h5`) and MATLAB (`.mat`) files.\n",
        "\n",
        "These utilities are useful for:\n",
        "*   **HDF5:** Storing multiple datasets, including large NumPy arrays, in a single, structured, and hierarchical file. HDF5 is efficient for both storage and partial I/O.\n",
        "*   **MATLAB .MAT Files:** Exchanging data with MATLAB environments.\n",
        "\n",
        "The library provides simple functions to save a Python dictionary of NumPy arrays (and some other basic types for .MAT files) to these formats and to load them back."
      ]
    },
    {
      "cell_type": "code",
      "metadata": {},
      "outputs": [],
      "execution_count": null,
      "source": [
        "import os\n",
        "import shutil\n",
        "import numpy as np\n",
        "\n",
        "# diffusemri library imports\n",
        "from data_io.generic_utils import (\n",
        "    save_dict_to_hdf5, load_dict_from_hdf5,\n",
        "    save_dict_to_mat, load_dict_from_mat\n",
        ")\n",
        "\n",
        "# Setup a temporary directory for example files\n",
        "TEMP_DIR = \"temp_generic_io_example\"\n",
        "if os.path.exists(TEMP_DIR):\n",
        "    shutil.rmtree(TEMP_DIR)\n",
        "os.makedirs(TEMP_DIR)\n",
        "\n",
        "print(f\"Temporary directory for examples: {os.path.abspath(TEMP_DIR)}\")"
      ]
    },
    {
      "cell_type": "markdown",
      "metadata": {},
      "source": [
        "## Part 1: HDF5 I/O (`.h5`)\n",
        "\n",
        "HDF5 (Hierarchical Data Format version 5) is a versatile file format designed to store and organize large amounts of scientific data."
      ]
    },
    {
      "cell_type": "markdown",
      "metadata": {},
      "source": [
        "### Creating Sample Data for HDF5"
      ]
    },
    {
      "cell_type": "code",
      "metadata": {},
      "outputs": [],
      "execution_count": null,
      "source": [
        "# Sample data: a dictionary where keys are dataset names and values are NumPy arrays.\n",
        "data_to_save_h5 = {\n",
        "    'array_integers': np.arange(20, dtype=np.int32).reshape(4, 5),\n",
        "    'array_floats': np.random.rand(2, 3, 2).astype(np.float64), # A 3D array\n",
        "    'array_booleans': np.array([[True, False, True], [False, True, False]]),\n",
        "    'scalar_value': np.array(3.14159) # A single scalar value stored as a 0-dim array\n",
        "}\n",
        "\n",
        "print(\"Original data dictionary for HDF5:\")\n",
        "for key, value_array in data_to_save_h5.items():\n",
        "    print(f\"  '{key}': shape={value_array.shape}, dtype={value_array.dtype}\")"
      ]
    },
    {
      "cell_type": "markdown",
      "metadata": {},
      "source": [
        "### Saving to HDF5"
      ]
    },
    {
      "cell_type": "code",
      "metadata": {},
      "outputs": [],
      "execution_count": null,
      "source": [
        "hdf5_filepath = os.path.join(TEMP_DIR, \"my_data_archive.h5\")\n",
        "try:\n",
        "    save_dict_to_hdf5(data_to_save_h5, hdf5_filepath)\n",
        "    print(f\"Data successfully saved to HDF5 file: {hdf5_filepath}\")\n",
        "except Exception as e:\n",
        "    print(f\"An error occurred while saving to HDF5: {e}\")"
      ]
    },
    {
      "cell_type": "markdown",
      "metadata": {},
      "source": [
        "### Loading from HDF5"
      ]
    },
    {
      "cell_type": "code",
      "metadata": {},
      "outputs": [],
      "execution_count": null,
      "source": [
        "if not os.path.exists(hdf5_filepath):\n",
        "    print(f\"HDF5 file {hdf5_filepath} not found. Skipping loading example.\")\n",
        "else:\n",
        "    try:\n",
        "        loaded_data_h5 = load_dict_from_hdf5(hdf5_filepath)\n",
        "        print(\"\\nData loaded from HDF5 file:\")\n",
        "        for key, value_array in loaded_data_h5.items():\n",
        "            print(f\"  '{key}': shape={value_array.shape}, dtype={value_array.dtype}\")\n",
        "        \n",
        "        # Verification step (good practice for notebooks)\n",
        "        print(\"\\nVerifying HDF5 data integrity...\")\n",
        "        all_match = True\n",
        "        for key in data_to_save_h5:\n",
        "            if key not in loaded_data_h5:\n",
        "                print(f\"  ERROR: Key '{key}' missing in loaded data.\")\n",
        "                all_match = False\n",
        "                continue\n",
        "            if not np.array_equal(data_to_save_h5[key], loaded_data_h5[key]):\n",
        "                print(f\"  ERROR: Data mismatch for key '{key}'.\")\n",
        "                all_match = False\n",
        "            if data_to_save_h5[key].dtype != loaded_data_h5[key].dtype:\n",
        "                print(f\"  ERROR: Dtype mismatch for key '{key}'. Original: {data_to_save_h5[key].dtype}, Loaded: {loaded_data_h5[key].dtype}\")\n",
        "                all_match = False\n",
        "        \n",
        "        if all_match:\n",
        "            print(\"HDF5 data integrity verified successfully.\")\n",
        "        else:\n",
        "            print(\"HDF5 data integrity verification failed for some items.\")\n",
        "            \n",
        "    except Exception as e:\n",
        "        print(f\"An error occurred while loading or verifying HDF5 data: {e}\")"
      ]
    },
    {
      "cell_type": "markdown",
      "metadata": {},
      "source": [
        "## Part 2: MATLAB .MAT File I/O (`.mat`)\n",
        "\n",
        "MAT files are commonly used for saving data in a format that can be easily loaded into MATLAB. The `scipy.io.savemat` and `scipy.io.loadmat` functions are used under the hood."
      ]
    },
    {
      "cell_type": "markdown",
      "metadata": {},
      "source": [
        "### Creating Sample Data for .MAT"
      ]
    },
    {
      "cell_type": "code",
      "metadata": {},
      "outputs": [],
      "execution_count": null,
      "source": [
        "# Sample data for .MAT files. Can include NumPy arrays and other Python types.\n",
        "data_to_save_mat = {\n",
        "    'matrix_A': np.array([[10.5, 20.2, 30.0], [40.0, 50.8, 60.1]], dtype=np.double),\n",
        "    'vector_B': np.array([11, 22, 33, 44], dtype=np.int16),\n",
        "    'scalar_int': 100,\n",
        "    'scalar_float': 75.25,\n",
        "    'string_C': \"MATLAB_Example_Data\",\n",
        "    'boolean_D': True\n",
        "}\n",
        "\n",
        "print(\"Original data dictionary for .MAT:\")\n",
        "for key, value in data_to_save_mat.items():\n",
        "    if isinstance(value, np.ndarray):\n",
        "        print(f\"  '{key}': shape={value.shape}, dtype={value.dtype}\")\n",
        "    else:\n",
        "        print(f\"  '{key}': type={type(value)}, value='{value}'\")"
      ]
    },
    {
      "cell_type": "markdown",
      "metadata": {},
      "source": [
        "### Saving to .MAT"
      ]
    },
    {
      "cell_type": "code",
      "metadata": {},
      "outputs": [],
      "execution_count": null,
      "source": [
        "mat_filepath = os.path.join(TEMP_DIR, \"my_matlab_data.mat\")\n",
        "try:\n",
        "    save_dict_to_mat(data_to_save_mat, mat_filepath)\n",
        "    print(f\"Data successfully saved to .MAT file: {mat_filepath}\")\n",
        "except Exception as e:\n",
        "    print(f\"An error occurred while saving to .MAT: {e}\")"
      ]
    },
    {
      "cell_type": "markdown",
      "metadata": {},
      "source": [
        "### Loading from .MAT\n",
        "\n",
        "Note: `load_dict_from_mat` filters out MATLAB-internal variables like `__header__`, `__version__`, `__globals__`."
      ]
    },
    {
      "cell_type": "code",
      "metadata": {},
      "outputs": [],
      "execution_count": null,
      "source": [
        "if not os.path.exists(mat_filepath):\n",
        "    print(f\".MAT file {mat_filepath} not found. Skipping loading example.\")\n",
        "else:\n",
        "    try:\n",
        "        loaded_data_mat = load_dict_from_mat(mat_filepath)\n",
        "        print(\"\\nData loaded from .MAT file (filtered):\")\n",
        "        for key, value in loaded_data_mat.items():\n",
        "            if isinstance(value, np.ndarray):\n",
        "                # SciPy may save 1D vectors as 2D row/column vectors, .flatten() helps for comparison\n",
        "                print(f\"  '{key}': shape={value.shape}, dtype={value.dtype}, value={value.flatten() if value.ndim > 1 else value}\")\n",
        "            else:\n",
        "                print(f\"  '{key}': type={type(value)}, value='{value}'\")\n",
        "\n",
        "        # Verification (handle potential type/shape differences from MATLAB format)\n",
        "        print(\"\\nVerifying .MAT data integrity...\")\n",
        "        assert np.array_equal(data_to_save_mat['matrix_A'], loaded_data_mat['matrix_A']), \"matrix_A mismatch\"\n",
        "        # .mat files might save 1D arrays as 2D (e.g., (1,4) instead of (4,)). Flatten for comparison.\n",
        "        assert np.array_equal(data_to_save_mat['vector_B'], loaded_data_mat['vector_B'].flatten()), \"vector_B mismatch\"\n",
        "        assert data_to_save_mat['string_C'] == loaded_data_mat['string_C'], \"string_C mismatch\"\n",
        "        # Scalar numbers might be loaded as arrays by scipy.io.loadmat\n",
        "        assert data_to_save_mat['scalar_int'] == loaded_data_mat['scalar_int'].item(), \"scalar_int mismatch\"\n",
        "        assert np.isclose(data_to_save_mat['scalar_float'], loaded_data_mat['scalar_float'].item()), \"scalar_float mismatch\"\n",
        "        assert data_to_save_mat['boolean_D'] == loaded_data_mat['boolean_D'].item(), \"boolean_D mismatch\"\n",
        "        print(\".MAT data integrity verified successfully.\")\n",
        "\n",
        "    except Exception as e:\n",
        "        print(f\"An error occurred while loading or verifying .MAT data: {e}\")"
      ]
    },
    {
      "cell_type": "markdown",
      "metadata": {},
      "source": [
        "## Cleanup\n",
        "\n",
        "Remove the temporary directory and its contents."
      ]
    },
    {
      "cell_type": "code",
      "metadata": {},
      "outputs": [],
      "execution_count": null,
      "source": [
        "if os.path.exists(TEMP_DIR):\n",
        "    shutil.rmtree(TEMP_DIR)\n",
        "    print(f\"Cleaned up temporary directory: {TEMP_DIR}\")"
      ]
    }
  ]
}
