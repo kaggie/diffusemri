{
  "nbformat": 4,
  "nbformat_minor": 5,
  "metadata": {
    "kernelspec": {
      "display_name": "Python 3",
      "language": "python",
      "name": "python3"
    },
    "language_info": {
      "codemirror_mode": {
        "name": "ipython",
        "version": 3
      },
      "file_extension": ".py",
      "mimetype": "text/x-python",
      "name": "python",
      "nbconvert_exporter": "python",
      "pygments_lexer": "ipython3",
      "version": "3.10.12"
    }
  },
  "cells": [
    {
      "cell_type": "markdown",
      "metadata": {},
      "source": [
        "# 08 - Bias Field Correction with Dipý (N4)\n",
        "\n",
        "This notebook demonstrates how to perform bias field correction using the N4 algorithm, which is available through Dipý and wrapped by the `diffusemri` library. \n",
        "\n",
        "**What is Bias Field?**\n",
        "A bias field (also known as intensity non-uniformity or INU) is a low-frequency, spatially varying artifact that affects MR images. It causes the intensity of the same tissue type to vary across the image, which can negatively impact quantitative analysis, segmentation, and registration.\n",
        "\n",
        "**N4 Bias Field Correction**\n",
        "The N4 (N3 followed by B-spline fitting) algorithm is a popular method for correcting bias fields. It is an iterative method that models the bias field as a smooth multiplicative field. Dipý provides access to N4 implementations (often relying on ITK components, potentially via SimpleITK, or its own DeepN4 variant)."
      ]
    },
    {
      "cell_type": "markdown",
      "metadata": {},
      "source": [
        "## Dependencies\n",
        "\n",
        "This notebook and the wrapped functions rely on:\n",
        "*   `diffusemri`: For the wrapper function.\n",
        "*   `dipy`: Provides the core N4 bias field correction workflow.\n",
        "*   `nibabel`: For NIfTI I/O.\n",
        "*   `numpy`: For numerical operations.\n",
        "*   `matplotlib`: For plotting.\n",
        "*   Potentially `SimpleITK` or underlying ITK libraries: Dipý's N4 implementation may have dependencies on ITK, which might be satisfied if SimpleITK is installed or if Dipý was compiled with ITK support. Ensure your Dipý installation is complete with its optional dependencies for N4 if you encounter issues."
      ]
    },
    {
      "cell_type": "code",
      "metadata": {},
      "outputs": [],
      "execution_count": null,
      "source": [
        "import os\n",
        "import shutil\n",
        "import numpy as np\n",
        "import nibabel as nib\n",
        "import matplotlib.pyplot as plt\n",
        "# import SimpleITK as sitk # Not strictly needed for this notebook's dummy data creation with NumPy\n",
        "\n",
        "# diffusemri library imports\n",
        "from preprocessing.correction import correct_bias_field_dipy\n",
        "\n",
        "# For conceptual CLI examples, one might import the main function:\n",
        "# from cli.run_preprocessing import main as preprocessing_cli_main\n",
        "\n",
        "# Setup a temporary directory for example files\n",
        "TEMP_DIR = \"temp_bias_correction_example\"\n",
        "if os.path.exists(TEMP_DIR):\n",
        "    shutil.rmtree(TEMP_DIR)\n",
        "os.makedirs(TEMP_DIR)\n",
        "\n",
        "print(f\"Temporary directory for examples: {os.path.abspath(TEMP_DIR)}\")\n",
        "\n",
        "# Helper function for plotting slices\n",
        "def show_slice(data_vol, slice_idx=None, title=\"\", cmap='gray', vmin=None, vmax=None):\n",
        "    \"\"\"Displays a central slice of 2D, 3D, or 4D data (first volume for 4D).\"\"\"\n",
        "    data_to_show = None\n",
        "    if data_vol.ndim == 4:\n",
        "        s_idx = slice_idx if slice_idx is not None else data_vol.shape[2] // 2\n",
        "        data_to_show = data_vol[:, :, s_idx, 0] # Show first volume if 4D\n",
        "    elif data_vol.ndim == 3:\n",
        "        s_idx = slice_idx if slice_idx is not None else data_vol.shape[2] // 2\n",
        "        data_to_show = data_vol[:, :, s_idx]\n",
        "    elif data_vol.ndim == 2:\n",
        "        data_to_show = data_vol # Already a 2D slice\n",
        "    else:\n",
        "        print(f\"Cannot display data with {data_vol.ndim} dimensions.\")\n",
        "        return\n",
        "    \n",
        "    plt.figure(figsize=(6,5))\n",
        "    plt.imshow(data_to_show.T, cmap=cmap, origin='lower', vmin=vmin, vmax=vmax)\n",
        "    plt.title(title)\n",
        "    plt.xlabel(\"X voxel index\"); plt.ylabel(\"Y voxel index\")\n",
        "    plt.colorbar(label=\"Intensity\")\n",
        "    plt.show()"
      ]
    },
    {
      "cell_type": "markdown",
      "metadata": {},
      "source": [
        "## Part 1: Creating Dummy Data with a Simulated Bias Field\n",
        "\n",
        "To demonstrate bias field correction, we first need an image that has a bias field. We'll create a simple 3D NIfTI image and then apply a synthetic multiplicative bias field to it."
      ]
    },
    {
      "cell_type": "code",
      "metadata": {},
      "outputs": [],
      "execution_count": null,
      "source": [
        "# Create a base dummy 3D NIfTI image\n",
        "dims = (64, 64, 20)  # X, Y, Z dimensions\n",
        "base_data = np.zeros(dims, dtype=np.float32)\n",
        "\n",
        "# Create a central rectangular region with higher signal\n",
        "base_data[20:44, 20:44, 5:15] = 200.0\n",
        "# Add some random noise\n",
        "base_data += np.random.normal(loc=0, scale=10, size=dims)\n",
        "base_data = np.clip(base_data, 0, None) # Ensure no negative values from noise\n",
        "\n",
        "affine = np.diag([2.0, 2.0, 2.0, 1.0])  # Simple 2mm isotropic voxel affine\n",
        "original_nifti_path = os.path.join(TEMP_DIR, \"original_image.nii.gz\")\n",
        "nib.save(nib.Nifti1Image(base_data, affine), original_nifti_path)\n",
        "\n",
        "print(f\"Created original dummy NIfTI: {original_nifti_path}\")\n",
        "show_slice(base_data, title=\"Original Data (Slice in Z)\")"
      ]
    },
    {
      "cell_type": "code",
      "metadata": {},
      "outputs": [],
      "execution_count": null,
      "source": [
        "# Simulate a simple multiplicative bias field\n",
        "# Create coordinate grids\n",
        "x_coords = np.linspace(-1, 1, dims[0])\n",
        "y_coords = np.linspace(-1, 1, dims[1])\n",
        "z_coords = np.linspace(-1, 1, dims[2])\n",
        "xx, yy, zz = np.meshgrid(x_coords, y_coords, z_coords, indexing='ij')\n",
        "\n",
        "# Define a bias field: e.g., brighter towards one corner (positive x, y, z)\n",
        "# and with a slight quadratic falloff from the center of x,y plane\n",
        "bias_field = 0.8 + 0.5 * (xx + yy + zz) - 0.3 * (xx**2 + yy**2) \n",
        "\n",
        "# Normalize the field to be positive and have a reasonable range (e.g., 0.6 to 1.4)\n",
        "bias_field_min = bias_field.min()\n",
        "bias_field_max = bias_field.max()\n",
        "bias_field_normalized = (bias_field - bias_field_min) / (bias_field_max - bias_field_min) # Range 0-1\n",
        "bias_field_scaled = 0.6 + 0.8 * bias_field_normalized # Example: range 0.6 to 1.4\n",
        "\n",
        "# Apply the bias field multiplicatively\n",
        "biased_data = base_data * bias_field_scaled\n",
        "biased_data = np.clip(biased_data, 0, None) # Ensure positivity\n",
        "\n",
        "biased_nifti_path = os.path.join(TEMP_DIR, \"biased_image.nii.gz\")\n",
        "nib.save(nib.Nifti1Image(biased_data, affine), biased_nifti_path)\n",
        "\n",
        "print(f\"Created NIfTI with simulated bias field: {biased_nifti_path}\")\n",
        "# Show the biased data, using vmin/vmax from original for comparison if desired\n",
        "show_slice(biased_data, title=\"Data with Simulated Bias Field\", vmin=base_data.min(), vmax=base_data.max()*1.4) \n",
        "show_slice(bias_field_scaled, title=\"Simulated Bias Field Multiplier\", cmap='viridis')"
      ]
    },
    {
      "cell_type": "markdown",
      "metadata": {},
      "source": [
        "## Part 2: Applying N4 Bias Field Correction\n",
        "\n",
        "Now we use the `correct_bias_field_dipy` function from `diffusemri.preprocessing.correction` to apply N4 correction to our biased image. This function wraps Dipý's N4 implementation."
      ]
    },
    {
      "cell_type": "code",
      "metadata": {},
      "outputs": [],
      "execution_count": null,
      "source": [
        "corrected_nifti_path = os.path.join(TEMP_DIR, \"n4_corrected_image.nii.gz\")\n",
        "estimated_bias_field_by_n4_path = None # The current wrapper does not return this path directly\n",
        "\n",
        "print(f\"Applying N4 bias field correction to: {biased_nifti_path}\")\n",
        "print(f\"Corrected image will be saved to: {corrected_nifti_path}\")\n",
        "\n",
        "try:\n",
        "    # The N4 algorithm in Dipý typically works on 3D images. \n",
        "    # If you have a 4D DWI series, you might apply it to a mean b0 image, \n",
        "    # or iterate through volumes if appropriate (though N4 is usually for T1w/T2w or mean DWI).\n",
        "    # Our dummy data `biased_nifti_path` is 3D.\n",
        "    \n",
        "    # The wrapper function might take additional kwargs for N4 if exposed.\n",
        "    # Common N4 parameters include: shrink_factor, n_iterations, convergence_threshold.\n",
        "    # For dummy data, default or simplified parameters might be needed for quick execution.\n",
        "    # Example of potential kwargs (if the wrapper supports them, check its docstring):\n",
        "    # n4_kwargs = {'n_iterations': [50,40,30], 'convergence_threshold': 1e-4}\n",
        "\n",
        "    output_path_n4 = correct_bias_field_dipy(\n",
        "        input_image_file=biased_nifti_path,\n",
        "        output_corrected_file=corrected_nifti_path,\n",
        "        method='n4' # Explicitly request 'n4'\n",
        "        # **n4_kwargs # Pass additional N4 parameters here if supported\n",
        "    )\n",
        "    \n",
        "    if os.path.exists(output_path_n4):\n",
        "        print(f\"N4 bias field correction completed. Corrected image saved to: {output_path_n4}\")\n",
        "        corrected_data_n4 = nib.load(output_path_n4).get_fdata()\n",
        "        show_slice(corrected_data_n4, title=\"N4 Corrected Data\", vmin=base_data.min(), vmax=base_data.max()*1.4)\n",
        "        \n",
        "        # The current `correct_bias_field_dipy` wrapper does not directly return the estimated bias field.\n",
        "        # However, Dipý's N4BiasFieldCorrection workflow internally calculates it. \n",
        "        # If it were saved by the workflow (e.g. if the nipype interface does this),\n",
        "        # one could try to load it. For now, we just show the corrected image.\n",
        "        # Example: if a bias field file was saved as `*_bias_field.nii.gz` by the underlying tool:\n",
        "        # potential_bias_field_path = corrected_nifti_path.replace(\".nii.gz\", \"_bias_field.nii.gz\")\n",
        "        # if os.path.exists(potential_bias_field_path):\n",
        "        #    estimated_bias_field_data = nib.load(potential_bias_field_path).get_fdata()\n",
        "        #    show_slice(estimated_bias_field_data, title=\"Estimated Bias Field by N4\", cmap='viridis')\n",
        "        # else:\n",
        "        #    print(\"Estimated bias field file not found at expected conventional path.\")\n",
        "            \n",
        "    else:\n",
        "        print(\"N4 correction function ran, but the output file was not found.\")\n",
        "\n",
        "except Exception as e:\n",
        "    print(f\"An error occurred during N4 bias field correction: {e}\")\n",
        "    print(\"This could be due to the synthetic nature of the dummy data, missing ITK dependencies for Dipý's N4, or N4 algorithm parameters not being robust for this simple data.\")"
      ]
    },
    {
      "cell_type": "markdown",
      "metadata": {},
      "source": [
        "### CLI Conceptual Example\n",
        "\n",
        "Bias field correction can also be invoked via the `run_preprocessing.py` script:\n",
        "\n",
        "```bash\n",
        "# Conceptual CLI command - replace paths with your actual file paths\n",
        "python cli/run_preprocessing.py bias_field_dipy \\\n",
        "  --input_file /path/to/your/image_with_bias.nii.gz \\\n",
        "  --output_file /path/to/output/corrected_image.nii.gz \\\n",
        "  --method n4 \n",
        "  # Optional: --mask_file /path/to/your/brain_mask.nii.gz (N4 often performs better with a mask)\n",
        "  # Optional: --n4_iterations 50 40 30 (example if CLI supports passing N4 specific args)\n",
        "```"
      ]
    },
    {
      "cell_type": "markdown",
      "metadata": {},
      "source": [
        "## Discussion\n",
        "\n",
        "*   **Effectiveness**: The N4 algorithm is generally effective, but its performance can depend on the characteristics of the bias field, the image data itself, and the chosen parameters.\n",
        "*   **Parameters**: Dipý's N4 implementation (and ITK's N4) has several parameters that can be tuned, such as:\n",
        "    *   `n_iterations`: Number of iterations at each level of a multi-resolution pyramid (e.g., `[50,40,30,20]`).\n",
        "    *   `convergence_threshold`: Criterion to stop iterations.\n",
        "    *   `shrink_factor`: Downsampling factor at each level of the pyramid.\n",
        "    *   `spline_param` or `bspline_fitting_distance`: Controls the smoothness of the estimated bias field.\n",
        "    The `diffusemri` wrapper `correct_bias_field_dipy` may expose some of these via `**kwargs`. Refer to its documentation or Dipý's documentation for details.\n",
        "*   **Masking**: Applying N4 within a brain mask can sometimes improve results by focusing the algorithm on relevant tissues and avoiding influence from noisy background or skull regions.\n",
        "*   **Input Data**: While N4 is often applied to T1-weighted anatomical images, it can also be applied to other MR modalities, including mean b0 images from a DWI series if they suffer from significant bias field."
      ]
    },
    {
      "cell_type": "markdown",
      "metadata": {},
      "source": [
        "## Cleanup\n",
        "\n",
        "Remove the temporary directory and its contents."
      ]
    },
    {
      "cell_type": "code",
      "metadata": {},
      "outputs": [],
      "execution_count": null,
      "source": [
        "if os.path.exists(TEMP_DIR):\n",
        "    shutil.rmtree(TEMP_DIR)\n",
        "    print(f\"Cleaned up temporary directory: {TEMP_DIR}\")"
      ]
    }
  ]
}
