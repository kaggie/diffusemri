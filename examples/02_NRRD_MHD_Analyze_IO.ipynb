{
  "nbformat": 4,
  "nbformat_minor": 5,
  "metadata": {
    "kernelspec": {
      "display_name": "Python 3",
      "language": "python",
      "name": "python3"
    },
    "language_info": {
      "codemirror_mode": {
        "name": "ipython",
        "version": 3
      },
      "file_extension": ".py",
      "mimetype": "text/x-python",
      "name": "python",
      "nbconvert_exporter": "python",
      "pygments_lexer": "ipython3",
      "version": "3.10.12"
    }
  },
  "cells": [
    {
      "cell_type": "markdown",
      "metadata": {},
      "source": [
        "# 02 - NRRD, MHD, and Analyze I/O\n",
        "\n",
        "This notebook demonstrates how to use the `diffusemri` library for Input/Output (I/O) operations with NRRD (Nearly Raw Raster Data), MHD (MetaImage Header), and Analyze 7.5 file formats. We will cover:\n",
        "\n",
        "1.  Creating dummy files in these formats.\n",
        "2.  Reading data from these formats using `diffusemri` functions.\n",
        "3.  Writing data to these formats using `diffusemri` functions.\n",
        "4.  Converting these formats to and from NIfTI using the library's utilities (conceptually via CLI calls, demonstrated with Python function calls to the CLI interface for notebook compatibility).\n",
        "5.  Important considerations for handling DWI (Diffusion-Weighted Imaging) metadata and format limitations."
      ]
    },
    {
      "cell_type": "code",
      "metadata": {},
      "outputs": [],
      "execution_count": null,
      "source": [
        "import os\n",
        "import shutil\n",
        "import numpy as np\n",
        "import nibabel as nib\n",
        "import nrrd # For creating dummy NRRD directly\n",
        "import SimpleITK as sitk # For creating dummy MHD directly\n",
        "\n",
        "# diffusemri library imports\n",
        "from data_io.nrrd_utils import read_nrrd_data, write_nrrd_data\n",
        "from data_io.mhd_utils import read_mhd_data, write_mhd_data\n",
        "from data_io.analyze_utils import read_analyze_data, write_analyze_data\n",
        "\n",
        "# For demonstrating CLI functionality via Python calls\n",
        "# This assumes cli.run_format_conversion.main can accept a list of string arguments\n",
        "from cli.run_format_conversion import main as conversion_cli_main \n",
        "\n",
        "# Setup a temporary directory for example files\n",
        "TEMP_DIR = \"temp_io_formats_example\"\n",
        "if os.path.exists(TEMP_DIR):\n",
        "    shutil.rmtree(TEMP_DIR)\n",
        "os.makedirs(TEMP_DIR)\n",
        "\n",
        "print(f\"Temporary directory for examples: {os.path.abspath(TEMP_DIR)}\")"
      ]
    },
    {
      "cell_type": "markdown",
      "metadata": {},
      "source": [
        "## Part 1: NRRD (.nrrd, .nhdr)\n",
        "\n",
        "NRRD is a flexible format that can store 2D, 3D, or higher-dimensional image data along with extensive metadata in its header."
      ]
    },
    {
      "cell_type": "markdown",
      "metadata": {},
      "source": [
        "### Creating a Dummy NRRD File"
      ]
    },
    {
      "cell_type": "code",
      "metadata": {},
      "outputs": [],
      "execution_count": null,
      "source": [
        "dummy_nrrd_data_np = np.arange(2*3*4, dtype=np.uint16).reshape((2, 3, 4)) # X, Y, Z\n",
        "dummy_nrrd_filepath = os.path.join(TEMP_DIR, \"dummy_anat.nrrd\")\n",
        "\n",
        "# Define NRRD header. For NIfTI compatibility, 'space' should ideally be LPS or RAS.\n",
        "# 'space directions' define the columns of the affine matrix (excluding translation).\n",
        "# 'space origin' defines the translation part.\n",
        "nrrd_header = {\n",
        "    'space': 'left-posterior-superior', # LPS\n",
        "    'space directions': [[1.0, 0, 0], [0, 2.0, 0], [0, 0, 3.0]], # Voxel sizes for x, y, z\n",
        "    'space origin': [10.0, 11.0, 12.0]\n",
        "}\n",
        "\n",
        "try:\n",
        "    nrrd.write(dummy_nrrd_filepath, dummy_nrrd_data_np, header=nrrd_header)\n",
        "    print(f\"Created dummy NRRD: {dummy_nrrd_filepath}\")\n",
        "except Exception as e:\n",
        "    print(f\"Error creating dummy NRRD: {e}\")"
      ]
    },
    {
      "cell_type": "markdown",
      "metadata": {},
      "source": [
        "### Reading NRRD Data"
      ]
    },
    {
      "cell_type": "code",
      "metadata": {},
      "outputs": [],
      "execution_count": null,
      "source": [
        "if os.path.exists(dummy_nrrd_filepath):\n",
        "    image_data_nrrd, affine_nrrd, bvals_nrrd, bvecs_nrrd, header_nrrd = read_nrrd_data(dummy_nrrd_filepath)\n",
        "    print(\"--- Reading NRRD ---\")\n",
        "    print(f\"Data shape: {image_data_nrrd.shape}, dtype: {image_data_nrrd.dtype}\")\n",
        "    print(f\"Affine matrix:\\n{affine_nrrd}\")\n",
        "    print(f\"b-values: {bvals_nrrd}\") # Expected to be None for this anatomical example\n",
        "    print(f\"Header keys (sample): {list(header_nrrd.keys())[:5]}\")\n",
        "else:\n",
        "    print(f\"Dummy NRRD file {dummy_nrrd_filepath} not found for reading.\")"
      ]
    },
    {
      "cell_type": "markdown",
      "metadata": {},
      "source": [
        "### Writing NRRD Data"
      ]
    },
    {
      "cell_type": "code",
      "metadata": {},
      "outputs": [],
      "execution_count": null,
      "source": [
        "new_nrrd_data_np = np.random.rand(3, 4, 5).astype(np.float32)\n",
        "new_nrrd_affine = np.array([\n",
        "    [2.0, 0,   0,   5.0],\n",
        "    [0,   2.0, 0,   6.0],\n",
        "    [0,   0,   2.5, 7.0],\n",
        "    [0,   0,   0,   1.0]\n",
        "])\n",
        "output_nrrd_filepath = os.path.join(TEMP_DIR, \"output_anat.nrrd\")\n",
        "\n",
        "try:\n",
        "    write_nrrd_data(output_nrrd_filepath, new_nrrd_data_np, new_nrrd_affine)\n",
        "    print(f\"Successfully wrote NRRD file: {output_nrrd_filepath}\")\n",
        "    # Verify by reading it back\n",
        "    r_data, r_affine, _, _, _ = read_nrrd_data(output_nrrd_filepath)\n",
        "    assert np.allclose(r_data, new_nrrd_data_np), \"Data mismatch after writing/reading NRRD\"\n",
        "    assert np.allclose(r_affine, new_nrrd_affine), \"Affine mismatch after writing/reading NRRD\"\n",
        "    print(\"Verification by reading back successful.\")\n",
        "except Exception as e:\n",
        "    print(f\"Error writing or verifying NRRD: {e}\")"
      ]
    },
    {
      "cell_type": "markdown",
      "metadata": {},
      "source": [
        "### NRRD <-> NIfTI Conversion (using CLI via Python calls)\n",
        "\n",
        "The `run_format_conversion.py` script provides CLI tools for these conversions. We can invoke its `main` function with appropriate arguments."
      ]
    },
    {
      "cell_type": "code",
      "metadata": {},
      "outputs": [],
      "execution_count": null,
      "source": [
        "# NRRD to NIfTI\n",
        "output_nifti_from_nrrd = os.path.join(TEMP_DIR, \"converted_from.nrrd.nii.gz\")\n",
        "nrrd2nii_args = [\n",
        "    'nrrd2nii',\n",
        "    '--input_nrrd', dummy_nrrd_filepath,\n",
        "    '--output_nifti', output_nifti_from_nrrd\n",
        "]\n",
        "print(f\"\\nRunning NRRD to NIfTI: {' '.join(nrrd2nii_args)}\")\n",
        "try:\n",
        "    conversion_cli_main(nrrd2nii_args)\n",
        "    if os.path.exists(output_nifti_from_nrrd):\n",
        "        print(f\"NRRD to NIfTI conversion successful: {output_nifti_from_nrrd}\")\n",
        "    else:\n",
        "        print(\"NRRD to NIfTI conversion failed (output file not found).\")\n",
        "except SystemExit as e:\n",
        "    print(f\"CLI call for nrrd2nii exited with code {e.code}\")\n",
        "\n",
        "# NIfTI to NRRD\n",
        "# First, create a dummy NIfTI file to convert\n",
        "dummy_nifti_data_for_nrrd = np.arange(3*3*3, dtype=np.int16).reshape((3,3,3))\n",
        "dummy_nifti_affine_for_nrrd = np.diag([1.5, 1.5, 3.0, 1.0])\n",
        "dummy_nifti_filepath_for_nrrd = os.path.join(TEMP_DIR, \"temp_for_nrrd_conversion.nii.gz\")\n",
        "nib.save(nib.Nifti1Image(dummy_nifti_data_for_nrrd, dummy_nifti_affine_for_nrrd), dummy_nifti_filepath_for_nrrd)\n",
        "\n",
        "output_nrrd_from_nifti = os.path.join(TEMP_DIR, \"converted_from.nii.nrrd\")\n",
        "nii2nrrd_args = [\n",
        "    'nii2nrrd',\n",
        "    '--input_nifti', dummy_nifti_filepath_for_nrrd,\n",
        "    '--output_nrrd', output_nrrd_from_nifti\n",
        "]\n",
        "print(f\"\\nRunning NIfTI to NRRD: {' '.join(nii2nrrd_args)}\")\n",
        "try:\n",
        "    conversion_cli_main(nii2nrrd_args)\n",
        "    if os.path.exists(output_nrrd_from_nifti):\n",
        "        print(f\"NIfTI to NRRD conversion successful: {output_nrrd_from_nifti}\")\n",
        "    else:\n",
        "        print(\"NIfTI to NRRD conversion failed (output file not found).\")\n",
        "except SystemExit as e:\n",
        "    print(f\"CLI call for nii2nrrd exited with code {e.code}\")"
      ]
    },
    {
      "cell_type": "markdown",
      "metadata": {},
      "source": [
        "## Part 2: MHD (.mhd with .raw/.zraw or .mha)\n",
        "\n",
        "MHD/MHA is another format often used in medical imaging, particularly with ITK-based software like 3D Slicer."
      ]
    },
    {
      "cell_type": "code",
      "metadata": {},
      "outputs": [],
      "execution_count": null,
      "source": [
        "dummy_mhd_data_np = np.arange(3*4*5, dtype=np.float32).reshape((5, 4, 3)) # SITK uses Z,Y,X order for numpy array\n",
        "dummy_mhd_filepath = os.path.join(TEMP_DIR, \"dummy_anat.mhd\")\n",
        "\n",
        "sitk_image = sitk.GetImageFromArray(dummy_mhd_data_np) # Z, Y, X\n",
        "sitk_image.SetSpacing([1.1, 1.2, 1.3]) # X, Y, Z spacing\n",
        "sitk_image.SetOrigin([5.0, 6.0, 7.0]) # X, Y, Z origin\n",
        "# For simplicity, using identity direction cosine matrix (aligned with axes)\n",
        "sitk_image.SetDirection(np.eye(3).flatten().tolist())\n",
        "\n",
        "try:\n",
        "    sitk.WriteImage(sitk_image, dummy_mhd_filepath)\n",
        "    print(f\"Created dummy MHD: {dummy_mhd_filepath}\")\n",
        "except Exception as e:\n",
        "    print(f\"Error creating dummy MHD: {e}\")"
      ]
    },
    {
      "cell_type": "markdown",
      "metadata": {},
      "source": [
        "### Reading MHD Data"
      ]
    },
    {
      "cell_type": "code",
      "metadata": {},
      "outputs": [],
      "execution_count": null,
      "source": [
        "if os.path.exists(dummy_mhd_filepath):\n",
        "    image_data_mhd, affine_mhd, bvals_mhd, bvecs_mhd, header_mhd = read_mhd_data(dummy_mhd_filepath)\n",
        "    print(\"--- Reading MHD ---\")\n",
        "    # Note: read_mhd_data transposes to X,Y,Z order for data array\n",
        "    print(f\"Data shape: {image_data_mhd.shape}, dtype: {image_data_mhd.dtype}\")\n",
        "    print(f\"Affine matrix:\\n{affine_mhd}\")\n",
        "    print(f\"b-values: {bvals_mhd}\") # Expected to be None\n",
        "    print(f\"Header keys (sample): {list(header_mhd.keys())[:5]}\")\n",
        "else:\n",
        "    print(f\"Dummy MHD file {dummy_mhd_filepath} not found for reading.\")"
      ]
    },
    {
      "cell_type": "markdown",
      "metadata": {},
      "source": [
        "### Writing MHD Data"
      ]
    },
    {
      "cell_type": "code",
      "metadata": {},
      "outputs": [],
      "execution_count": null,
      "source": [
        "new_mhd_data_np = (np.random.rand(4, 5, 6) * 255).astype(np.uint8) # X, Y, Z\n",
        "new_mhd_affine = np.array([\n",
        "    [0.5, 0,   0,   -10.0],\n",
        "    [0,   0.5, 0,   -12.0],\n",
        "    [0,   0,   0.8, -15.0],\n",
        "    [0,   0,   0,   1.0]\n",
        "])\n",
        "output_mhd_filepath = os.path.join(TEMP_DIR, \"output_anat.mha\") # Using .mha for single file\n",
        "\n",
        "try:\n",
        "    write_mhd_data(output_mhd_filepath, new_mhd_data_np, new_mhd_affine)\n",
        "    print(f\"Successfully wrote MHD file: {output_mhd_filepath}\")\n",
        "    # Verify by reading it back\n",
        "    r_data_mhd, r_affine_mhd, _, _, _ = read_mhd_data(output_mhd_filepath)\n",
        "    assert np.allclose(r_data_mhd, new_mhd_data_np), \"Data mismatch after writing/reading MHD\"\n",
        "    assert np.allclose(r_affine_mhd, new_mhd_affine), \"Affine mismatch after writing/reading MHD\"\n",
        "    print(\"Verification by reading back MHD successful.\")\n",
        "except Exception as e:\n",
        "    print(f\"Error writing or verifying MHD: {e}\")"
      ]
    },
    {
      "cell_type": "markdown",
      "metadata": {},
      "source": [
        "### MHD <-> NIfTI Conversion (using CLI via Python calls)"
      ]
    },
    {
      "cell_type": "code",
      "metadata": {},
      "outputs": [],
      "execution_count": null,
      "source": [
        "# MHD to NIfTI\n",
        "output_nifti_from_mhd = os.path.join(TEMP_DIR, \"converted_from.mhd.nii.gz\")\n",
        "mhd2nii_args = [\n",
        "    'mhd2nii',\n",
        "    '--input_mhd', dummy_mhd_filepath,\n",
        "    '--output_nifti', output_nifti_from_mhd\n",
        "]\n",
        "print(f\"\\nRunning MHD to NIfTI: {' '.join(mhd2nii_args)}\")\n",
        "try:\n",
        "    conversion_cli_main(mhd2nii_args)\n",
        "    if os.path.exists(output_nifti_from_mhd):\n",
        "        print(f\"MHD to NIfTI conversion successful: {output_nifti_from_mhd}\")\n",
        "    else:\n",
        "        print(\"MHD to NIfTI conversion failed.\")\n",
        "except SystemExit as e:\n",
        "    print(f\"CLI call for mhd2nii exited with code {e.code}\")\n",
        "\n",
        "# NIfTI to MHD\n",
        "dummy_nifti_filepath_for_mhd = os.path.join(TEMP_DIR, \"temp_for_mhd_conversion.nii.gz\")\n",
        "# Re-use the NIfTI created for NRRD example, or create a new one\n",
        "if not os.path.exists(dummy_nifti_filepath_for_mhd):\n",
        "    nib.save(nib.Nifti1Image(np.zeros((2,2,2)), np.eye(4)), dummy_nifti_filepath_for_mhd)\n",
        "\n",
        "output_mhd_from_nifti = os.path.join(TEMP_DIR, \"converted_from.nii.mha\")\n",
        "nii2mhd_args = [\n",
        "    'nii2mhd',\n",
        "    '--input_nifti', dummy_nifti_filepath_for_mhd,\n",
        "    '--output_mhd', output_mhd_from_nifti\n",
        "]\n",
        "print(f\"\\nRunning NIfTI to MHD: {' '.join(nii2mhd_args)}\")\n",
        "try:\n",
        "    conversion_cli_main(nii2mhd_args)\n",
        "    if os.path.exists(output_mhd_from_nifti):\n",
        "        print(f\"NIfTI to MHD conversion successful: {output_mhd_from_nifti}\")\n",
        "    else:\n",
        "        print(\"NIfTI to MHD conversion failed.\")\n",
        "except SystemExit as e:\n",
        "    print(f\"CLI call for nii2mhd exited with code {e.code}\")"
      ]
    },
    {
      "cell_type": "markdown",
      "metadata": {},
      "source": [
        "## Part 3: Analyze 7.5 (.hdr, .img)\n",
        "\n",
        "Analyze 7.5 is an older format but still encountered occasionally. It has significant limitations regarding orientation information."
      ]
    },
    {
      "cell_type": "code",
      "metadata": {},
      "outputs": [],
      "execution_count": null,
      "source": [
        "dummy_analyze_data_np = np.arange(4*5*6, dtype=np.int16).reshape((4,5,6)) # X,Y,Z\n",
        "dummy_analyze_affine = np.diag([-2.0, 2.0, 2.5, 1.0]) # Example with negative X determinant\n",
        "dummy_analyze_filepath = os.path.join(TEMP_DIR, \"dummy_analyze.hdr\")\n",
        "\n",
        "analyze_image = nib.AnalyzeImage(dummy_analyze_data_np, dummy_analyze_affine)\n",
        "try:\n",
        "    nib.save(analyze_image, dummy_analyze_filepath)\n",
        "    print(f\"Created dummy Analyze: {dummy_analyze_filepath} (and .img)\")\n",
        "except Exception as e:\n",
        "    print(f\"Error creating dummy Analyze: {e}\")"
      ]
    },
    {
      "cell_type": "markdown",
      "metadata": {},
      "source": [
        "### Reading Analyze Data"
      ]
    },
    {
      "cell_type": "code",
      "metadata": {},
      "outputs": [],
      "execution_count": null,
      "source": [
        "if os.path.exists(dummy_analyze_filepath):\n",
        "    image_data_analyze, affine_analyze, header_analyze = read_analyze_data(dummy_analyze_filepath)\n",
        "    print(\"--- Reading Analyze ---\")\n",
        "    print(f\"Data shape: {image_data_analyze.shape}, dtype: {image_data_analyze.dtype}\")\n",
        "    print(f\"Affine matrix:\\n{affine_analyze}\")\n",
        "    print(f\"Header (AnalyzeHeader object): {type(header_analyze)}\")\n",
        "else:\n",
        "    print(f\"Dummy Analyze file {dummy_analyze_filepath} not found for reading.\")"
      ]
    },
    {
      "cell_type": "markdown",
      "metadata": {},
      "source": [
        "### Writing Analyze Data"
      ]
    },
    {
      "cell_type": "code",
      "metadata": {},
      "outputs": [],
      "execution_count": null,
      "source": [
        "new_analyze_data_np = (np.random.rand(5,6,7) * 1000).astype(np.int16)\n",
        "new_analyze_affine = np.array([\n",
        "    [1.0, 0,   0,   20.0],\n",
        "    [0,   1.0, 0,   22.0],\n",
        "    [0,   0,   1.5, 25.0],\n",
        "    [0,   0,   0,   1.0]\n",
        "])\n",
        "output_analyze_filepath = os.path.join(TEMP_DIR, \"output_anat.hdr\")\n",
        "\n",
        "try:\n",
        "    write_analyze_data(output_analyze_filepath, new_analyze_data_np, new_analyze_affine)\n",
        "    print(f\"Successfully wrote Analyze file: {output_analyze_filepath}\")\n",
        "    # Verify by reading it back\n",
        "    r_data_analyze, r_affine_analyze, _ = read_analyze_data(output_analyze_filepath)\n",
        "    assert np.allclose(r_data_analyze, new_analyze_data_np), \"Data mismatch after writing/reading Analyze\"\n",
        "    # Affine comparison for Analyze can be tricky due to its limitations. \n",
        "    # Nibabel does its best to represent it.\n",
        "    # print(f\"Original affine for write:\\n{new_analyze_affine}\")\n",
        "    # print(f\"Affine after read:\\n{r_affine_analyze}\")\n",
        "    # For simple cases, it should be close. With flips/reorientations, it can differ more.\n",
        "    assert np.allclose(r_affine_analyze, new_analyze_affine, atol=1e-5), \"Affine mismatch after writing/reading Analyze\"\n",
        "    print(\"Verification by reading back Analyze successful (data and affine). \")\n",
        "except Exception as e:\n",
        "    print(f\"Error writing or verifying Analyze: {e}\")"
      ]
    },
    {
      "cell_type": "markdown",
      "metadata": {},
      "source": [
        "### Analyze <-> NIfTI Conversion (using CLI via Python calls)"
      ]
    },
    {
      "cell_type": "code",
      "metadata": {},
      "outputs": [],
      "execution_count": null,
      "source": [
        "# Analyze to NIfTI\n",
        "output_nifti_from_analyze = os.path.join(TEMP_DIR, \"converted_from.analyze.nii.gz\")\n",
        "analyze2nii_args = [\n",
        "    'analyze2nii',\n",
        "    '--input_analyze', dummy_analyze_filepath,\n",
        "    '--output_nifti', output_nifti_from_analyze\n",
        "]\n",
        "print(f\"\\nRunning Analyze to NIfTI: {' '.join(analyze2nii_args)}\")\n",
        "try:\n",
        "    conversion_cli_main(analyze2nii_args)\n",
        "    if os.path.exists(output_nifti_from_analyze):\n",
        "        print(f\"Analyze to NIfTI conversion successful: {output_nifti_from_analyze}\")\n",
        "    else:\n",
        "        print(\"Analyze to NIfTI conversion failed.\")\n",
        "except SystemExit as e:\n",
        "    print(f\"CLI call for analyze2nii exited with code {e.code}\")\n",
        "\n",
        "# NIfTI to Analyze\n",
        "dummy_nifti_filepath_for_analyze = os.path.join(TEMP_DIR, \"temp_for_analyze_conversion.nii.gz\")\n",
        "if not os.path.exists(dummy_nifti_filepath_for_analyze):\n",
        "     nib.save(nib.Nifti1Image(np.zeros((2,2,2), dtype=np.int16), np.eye(4)), dummy_nifti_filepath_for_analyze)\n",
        "\n",
        "output_analyze_from_nifti = os.path.join(TEMP_DIR, \"converted_from.nii.hdr\")\n",
        "nii2analyze_args = [\n",
        "    'nii2analyze',\n",
        "    '--input_nifti', dummy_nifti_filepath_for_analyze,\n",
        "    '--output_analyze', output_analyze_from_nifti\n",
        "]\n",
        "print(f\"\\nRunning NIfTI to Analyze: {' '.join(nii2analyze_args)}\")\n",
        "try:\n",
        "    conversion_cli_main(nii2analyze_args)\n",
        "    if os.path.exists(output_analyze_from_nifti):\n",
        "        print(f\"NIfTI to Analyze conversion successful: {output_analyze_from_nifti}\")\n",
        "    else:\n",
        "        print(\"NIfTI to Analyze conversion failed.\")\n",
        "except SystemExit as e:\n",
        "    print(f\"CLI call for nii2analyze exited with code {e.code}\")"
      ]
    },
    {
      "cell_type": "markdown",
      "metadata": {},
      "source": [
        "### Important Note on Analyze 7.5 Format Limitations\n",
        "\n",
        "The Analyze 7.5 format (`.hdr`/`.img`) is an older format with significant limitations compared to NIfTI:\n",
        "*   **Orientation Information:** It has very poor support for storing image orientation and coordinate system information. Affine transformations derived from Analyze headers can often be ambiguous or incorrect, especially if the image is not aligned with standard axial/coronal/sagittal planes. SForm/QForm information, which NIfTI uses for precise orientation, is absent.\n",
        "*   **Metadata:** Analyze 7.5 has minimal capacity for storing rich metadata. Crucially for diffusion MRI, it **cannot natively store b-values or b-vectors**.\n",
        "*   **Data Types:** Supports a more restricted set of data types than NIfTI.\n",
        "\n",
        "**Consequence:** Converting data (especially DWI) to Analyze 7.5 format will likely result in the loss of critical orientation and DWI metadata. When converting from Analyze 7.5 to NIfTI, the resulting NIfTI's orientation should be carefully checked."
      ]
    },
    {
      "cell_type": "markdown",
      "metadata": {},
      "source": [
        "## Notes on DWI Data for NRRD/MHD\n",
        "\n",
        "Both NRRD and MHD formats can store DWI metadata (b-values, b-vectors) using custom key-value pairs in their headers. The `diffusemri` library's `read_nrrd_data`/`read_mhd_data` functions attempt to parse common conventions for these fields, and `write_nrrd_data`/`write_mhd_data` can write them.\n",
        "\n",
        "When using the Python functions directly, you can provide `bvals` and `bvecs` NumPy arrays to the `write_*_data` functions. When reading, these will be returned if found and parsed from the header."
      ]
    },
    {
      "cell_type": "code",
      "metadata": {},
      "outputs": [],
      "execution_count": null,
      "source": [
        "# Example: Writing DWI data to NRRD\n",
        "dwi_nrrd_data = np.random.rand(10, 10, 5, 6).astype(np.float32) # X,Y,Z,NumGradients\n",
        "dwi_nrrd_affine = np.eye(4)\n",
        "dwi_bvals = np.array([0, 1000, 1000, 1000, 2000, 2000])\n",
        "dwi_bvecs = np.random.rand(6, 3)\n",
        "dwi_bvecs[0,:] = 0 # b0 vector\n",
        "dwi_bvecs[1:,:] = dwi_bvecs[1:,:] / np.linalg.norm(dwi_bvecs[1:,:], axis=1, keepdims=True) # Normalize\n",
        "\n",
        "dwi_output_nrrd_filepath = os.path.join(TEMP_DIR, \"dwi_example.nrrd\")\n",
        "try:\n",
        "    write_nrrd_data(dwi_output_nrrd_filepath, dwi_nrrd_data, dwi_nrrd_affine, \n",
        "                    bvals=dwi_bvals, bvecs=dwi_bvecs,\n",
        "                    custom_fields={'source_study': 'Example DWI'})\n",
        "    print(f\"Successfully wrote DWI NRRD: {dwi_output_nrrd_filepath}\")\n",
        "\n",
        "    # Verify reading DWI NRRD\n",
        "    img_data, aff, bvals_read, bvecs_read, header = read_nrrd_data(dwi_output_nrrd_filepath)\n",
        "    assert np.allclose(img_data, dwi_nrrd_data), \"DWI NRRD data mismatch\"\n",
        "    assert np.allclose(bvals_read, dwi_bvals), \"DWI NRRD bvals mismatch\"\n",
        "    # Note: b-vector comparison might need care due to potential reorientation logic in read/write\n",
        "    # For this direct write/read with identity affine, they should be very close.\n",
        "    assert np.allclose(bvecs_read, dwi_bvecs, atol=1e-6), \"DWI NRRD bvecs mismatch\"\n",
        "    assert header.get('source_study') == 'Example DWI', \"Custom field missing/incorrect\"\n",
        "    print(\"DWI NRRD write/read verification successful.\")\n",
        "except Exception as e:\n",
        "    print(f\"Error with DWI NRRD example: {e}\")\n",
        "\n",
        "# Similar principles apply for MHD DWI data using write_mhd_data and read_mhd_data."
      ]
    },
    {
      "cell_type": "markdown",
      "metadata": {},
      "source": [
        "## Cleanup\n",
        "\n",
        "Remove the temporary directory and its contents."
      ]
    },
    {
      "cell_type": "code",
      "metadata": {},
      "outputs": [],
      "execution_count": null,
      "source": [
        "if os.path.exists(TEMP_DIR):\n",
        "    shutil.rmtree(TEMP_DIR)\n",
        "    print(f\"Cleaned up temporary directory: {TEMP_DIR}\")"
      ]
    }
  ]
}
