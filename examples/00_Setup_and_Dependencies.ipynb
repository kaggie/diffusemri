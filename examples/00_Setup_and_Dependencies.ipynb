{
  "nbformat": 4,
  "nbformat_minor": 5,
  "metadata": {
    "kernelspec": {
      "display_name": "Python 3",
      "language": "python",
      "name": "python3"
    },
    "language_info": {
      "codemirror_mode": {
        "name": "ipython",
        "version": 3
      },
      "file_extension": ".py",
      "mimetype": "text/x-python",
      "name": "python",
      "nbconvert_exporter": "python",
      "pygments_lexer": "ipython3",
      "version": "3.10.12"
    }
  },
  "cells": [
    {
      "cell_type": "markdown",
      "metadata": {},
      "source": [
        "# 00 - Setup, Installation, and Dependencies\n",
        "\n",
        "Welcome to the `diffusemri` library! This library is designed for the processing and analysis of diffusion Magnetic Resonance Imaging (dMRI) data.\n",
        "\n",
        "This notebook will guide you through setting up your Python environment, installing the `diffusemri` library and its dependencies, and ensuring that any necessary external software (like FSL) is correctly configured."
      ]
    },
    {
      "cell_type": "markdown",
      "metadata": {},
      "source": [
        "## Python Environment\n",
        "\n",
        "### Recommended Python Version\n",
        "It is recommended to use **Python 3.8 or newer** for compatibility with the library and its dependencies.\n",
        "\n",
        "### Virtual Environments\n",
        "Using a virtual environment is strongly recommended to manage dependencies and avoid conflicts with other Python projects or your system's Python installation. You can use `venv` (built-in) or `conda`.\n",
        "\n",
        "**Using `venv`:**\n",
        "\n",
        "1.  **Create a virtual environment:**\n",
        "    Open your terminal and navigate to your desired project directory. Then run:\n",
        "    ```bash\n",
        "    python -m venv diffusemri_env\n",
        "    ```\n",
        "\n",
        "2.  **Activate the virtual environment:**\n",
        "    *   On **Linux or macOS**:\n",
        "        ```bash\n",
        "        source diffusemri_env/bin/activate\n",
        "        ```\n",
        "    *   On **Windows** (Command Prompt or PowerShell):\n",
        "        ```bash\n",
        "        diffusemri_env\\Scripts\\activate\n",
        "        ```\n",
        "    Your terminal prompt should change to indicate that the virtual environment is active (e.g., `(diffusemri_env) ...$`)."
      ]
    },
    {
      "cell_type": "markdown",
      "metadata": {},
      "source": [
        "## Installing `diffusemri`\n",
        "\n",
        "Once your virtual environment is activated, you can install the `diffusemri` library.\n",
        "\n",
        "### From Local Repository (for development)\n",
        "If you have cloned the `diffusemri` repository locally, you can install it in editable mode. Navigate to the root directory of the repository in your terminal and run:\n",
        "```bash\n",
        "pip install -e .\n",
        "```\n",
        "The `-e` flag means \"editable,\" so changes you make to the source code will be reflected immediately in your environment.\n",
        "\n",
        "### From PyPI (Placeholder for future release)\n",
        "Once the library is published to the Python Package Index (PyPI), you will be able to install it simply with:\n",
        "```bash\n",
        "# pip install diffusemri \n",
        "```"
      ]
    },
    {
      "cell_type": "markdown",
      "metadata": {},
      "source": [
        "## Core Python Dependencies\n",
        "\n",
        "The `diffusemri` library relies on several other Python packages for its functionality. These are listed in the `requirements.txt` file in the repository root.\n",
        "\n",
        "Key dependencies include:\n",
        "*   `numpy`: For numerical operations and array handling.\n",
        "*   `scipy`: For scientific and technical computing.\n",
        "*   `nibabel`: For reading and writing neuroimaging file formats (especially NIfTI).\n",
        "*   `pydicom`: For reading and writing DICOM files.\n",
        "*   `h5py`: For interacting with HDF5 files.\n",
        "*   `SimpleITK`: For image processing and I/O, used for MHD/MHA format support.\n",
        "*   `pynrrd`: For reading and writing NRRD files.\n",
        "*   `dipy`: A major library for diffusion MRI analysis, many parts of `diffusemri` wrap or utilize Dipy's capabilities.\n",
        "*   `torch`: (PyTorch) For tensor computations and neural network functionalities, used in some advanced models and preprocessing steps.\n",
        "*   `matplotlib`: For plotting and visualization.\n",
        "*   `nipype`: For interfacing with external neuroimaging software tools like FSL.\n",
        "\n",
        "If you installed `diffusemri` using `pip install -e .`, these dependencies should have been installed automatically. If you need to install them separately or ensure all are present, you can run:\n",
        "```bash\n",
        "pip install -r requirements.txt\n",
        "```\n",
        "(Ensure you are in the root directory of the repository where `requirements.txt` is located)."
      ]
    },
    {
      "cell_type": "markdown",
      "metadata": {},
      "source": [
        "## External Software Dependencies\n",
        "\n",
        "Certain advanced functionalities in `diffusemri` rely on external software packages that need to be installed separately.\n",
        "\n",
        "### FSL (FMRIB Software Library)\n",
        "\n",
        "*   **Purpose**: FSL is a comprehensive library of analysis tools for FMRI, MRI, and DTI brain imaging data. `diffusemri` uses FSL for some preprocessing tasks, such as:\n",
        "    *   Eddy current and motion correction (via `eddy`).\n",
        "    *   Susceptibility-induced distortion correction (via `topup` and `applytopup`).\n",
        "*   **Installation**: FSL must be installed on your system, and its command-line tools must be accessible from your system's PATH.\n",
        "    *   Follow the official installation guide: [FSL Installation Guide](https://fsl.fmrib.ox.ac.uk/fsl/fslwiki/FslInstallation)\n",
        "*   **Verification**: To check if FSL is correctly installed and configured in your PATH, open a new terminal (after installation and shell configuration) and try running a simple FSL command:\n",
        "    ```bash\n",
        "    fslinfo\n",
        "    ```\n",
        "    If FSL is set up correctly, this command should print usage information for `fslinfo`. If you get a \"command not found\" error, FSL is likely not in your PATH."
      ]
    },
    {
      "cell_type": "code",
      "metadata": {},
      "outputs": [],
      "execution_count": null,
      "source": [
        "# Verifying Installation of diffusemri\n",
        "try:\n",
        "    import diffusemri\n",
        "    # Future: Check for __version__ if added to diffusemri/__init__.py\n",
        "    # if hasattr(diffusemri, '__version__'):\n",
        "    #     print(f\"diffusemri version {diffusemri.__version__} imported successfully!\")\n",
        "    # else:\n",
        "    print(\"diffusemri library imported successfully!\")\n",
        "    \n",
        "    # You can also try importing a specific module to be more thorough\n",
        "    from diffusemri.data_io import nifti\n",
        "    print(\"Successfully imported a submodule from diffusemri (data_io.nifti).\")\n",
        "    \n",
        "except ImportError as e:\n",
        "    print(f\"Failed to import diffusemri: {e}\")\n",
        "    print(\"Please ensure the library is installed correctly and you are in the correct Python environment.\")\n",
        "except Exception as e:\n",
        "    print(f\"An unexpected error occurred during import: {e}\")"
      ]
    },
    {
      "cell_type": "markdown",
      "metadata": {},
      "source": [
        "## Troubleshooting Common Issues\n",
        "\n",
        "*   **`ModuleNotFoundError` or `ImportError` for `diffusemri`**: \n",
        "    *   Ensure your virtual environment is activated.\n",
        "    *   Confirm that you have installed `diffusemri` using `pip install -e .` from the repository root.\n",
        "    *   If using an IDE with Jupyter support (like VS Code or PyCharm), make sure the IDE's Jupyter kernel is configured to use the Python interpreter from your virtual environment.\n",
        "\n",
        "*   **Errors related to FSL tools (e.g., `eddy` not found)**:\n",
        "    *   Verify that FSL is installed correctly.\n",
        "    *   Ensure that the FSL binaries directory (e.g., `/usr/local/fsl/bin` or similar) is added to your system's `PATH` environment variable. You might need to restart your terminal or even your system after updating the PATH.\n",
        "    *   Test by running an FSL command (like `fslinfo` or `eddy`) directly in your terminal.\n",
        "\n",
        "*   **Dependency conflicts**: \n",
        "    *   If you encounter issues with versions of dependencies, try creating a fresh virtual environment and installing `diffusemri` first. `pip` should handle resolving compatible versions of the core dependencies."
      ]
    }
  ]
}
